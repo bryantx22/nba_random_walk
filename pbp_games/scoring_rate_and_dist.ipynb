{
 "cells": [
  {
   "cell_type": "markdown",
   "metadata": {},
   "source": [
    "### Calculate scoring rate + the probability distribution of time elapsed between scoring events"
   ]
  },
  {
   "cell_type": "markdown",
   "metadata": {},
   "source": [
    "* work with one game first"
   ]
  },
  {
   "cell_type": "code",
   "execution_count": 2,
   "metadata": {},
   "outputs": [],
   "source": [
    "import pandas as pd\n",
    "import numpy as np\n",
    "import matplotlib.pyplot as plt\n",
    "import seaborn as sns"
   ]
  },
  {
   "cell_type": "code",
   "execution_count": 34,
   "metadata": {},
   "outputs": [
    {
     "data": {
      "text/html": [
       "<div>\n",
       "<style scoped>\n",
       "    .dataframe tbody tr th:only-of-type {\n",
       "        vertical-align: middle;\n",
       "    }\n",
       "\n",
       "    .dataframe tbody tr th {\n",
       "        vertical-align: top;\n",
       "    }\n",
       "\n",
       "    .dataframe thead th {\n",
       "        text-align: right;\n",
       "    }\n",
       "</style>\n",
       "<table border=\"1\" class=\"dataframe\">\n",
       "  <thead>\n",
       "    <tr style=\"text-align: right;\">\n",
       "      <th></th>\n",
       "      <th>time</th>\n",
       "      <th>away_description</th>\n",
       "      <th>away_change</th>\n",
       "      <th>score</th>\n",
       "      <th>home_change</th>\n",
       "      <th>home_description</th>\n",
       "    </tr>\n",
       "  </thead>\n",
       "  <tbody>\n",
       "    <tr>\n",
       "      <th>0</th>\n",
       "      <td>11:43.0</td>\n",
       "      <td></td>\n",
       "      <td></td>\n",
       "      <td>0-2</td>\n",
       "      <td>+2</td>\n",
       "      <td>M. Plumlee makes 2-pt dunk at rim (assist by E...</td>\n",
       "    </tr>\n",
       "    <tr>\n",
       "      <th>1</th>\n",
       "      <td>11:28.0</td>\n",
       "      <td>K. Bryant misses 2-pt jump shot from 16 ft</td>\n",
       "      <td></td>\n",
       "      <td>0-2</td>\n",
       "      <td></td>\n",
       "      <td></td>\n",
       "    </tr>\n",
       "    <tr>\n",
       "      <th>2</th>\n",
       "      <td>11:26.0</td>\n",
       "      <td>Offensive rebound by Team</td>\n",
       "      <td></td>\n",
       "      <td>0-2</td>\n",
       "      <td></td>\n",
       "      <td></td>\n",
       "    </tr>\n",
       "    <tr>\n",
       "      <th>3</th>\n",
       "      <td>11:25.0</td>\n",
       "      <td></td>\n",
       "      <td></td>\n",
       "      <td>0-2</td>\n",
       "      <td></td>\n",
       "      <td>Violation by M. Plumlee (def goaltending)</td>\n",
       "    </tr>\n",
       "    <tr>\n",
       "      <th>4</th>\n",
       "      <td>11:25.0</td>\n",
       "      <td>C. Boozer makes 2-pt layup from 2 ft (assist b...</td>\n",
       "      <td>+2</td>\n",
       "      <td>2-2</td>\n",
       "      <td></td>\n",
       "      <td></td>\n",
       "    </tr>\n",
       "    <tr>\n",
       "      <th>5</th>\n",
       "      <td>11:03.0</td>\n",
       "      <td></td>\n",
       "      <td></td>\n",
       "      <td>2-5</td>\n",
       "      <td>+3</td>\n",
       "      <td>M. Morris makes 3-pt jump shot from 23 ft (ass...</td>\n",
       "    </tr>\n",
       "    <tr>\n",
       "      <th>6</th>\n",
       "      <td>10:51.0</td>\n",
       "      <td>J. Lin misses 2-pt jump shot from 19 ft</td>\n",
       "      <td></td>\n",
       "      <td>2-5</td>\n",
       "      <td></td>\n",
       "      <td></td>\n",
       "    </tr>\n",
       "    <tr>\n",
       "      <th>7</th>\n",
       "      <td>10:49.0</td>\n",
       "      <td>Offensive rebound by J. Hill</td>\n",
       "      <td></td>\n",
       "      <td>2-5</td>\n",
       "      <td></td>\n",
       "      <td></td>\n",
       "    </tr>\n",
       "    <tr>\n",
       "      <th>8</th>\n",
       "      <td>10:43.0</td>\n",
       "      <td>C. Boozer misses 2-pt jump shot from 15 ft</td>\n",
       "      <td></td>\n",
       "      <td>2-5</td>\n",
       "      <td></td>\n",
       "      <td></td>\n",
       "    </tr>\n",
       "    <tr>\n",
       "      <th>9</th>\n",
       "      <td>10:41.0</td>\n",
       "      <td></td>\n",
       "      <td></td>\n",
       "      <td>2-5</td>\n",
       "      <td></td>\n",
       "      <td>Defensive rebound by M. Plumlee</td>\n",
       "    </tr>\n",
       "  </tbody>\n",
       "</table>\n",
       "</div>"
      ],
      "text/plain": [
       "      time                                   away_description away_change  \\\n",
       "0  11:43.0                                                                  \n",
       "1  11:28.0         K. Bryant misses 2-pt jump shot from 16 ft               \n",
       "2  11:26.0                          Offensive rebound by Team               \n",
       "3  11:25.0                                                                  \n",
       "4  11:25.0  C. Boozer makes 2-pt layup from 2 ft (assist b...          +2   \n",
       "5  11:03.0                                                                  \n",
       "6  10:51.0            J. Lin misses 2-pt jump shot from 19 ft               \n",
       "7  10:49.0                       Offensive rebound by J. Hill               \n",
       "8  10:43.0         C. Boozer misses 2-pt jump shot from 15 ft               \n",
       "9  10:41.0                                                                  \n",
       "\n",
       "  score home_change                                   home_description  \n",
       "0   0-2          +2  M. Plumlee makes 2-pt dunk at rim (assist by E...  \n",
       "1   0-2                                                                 \n",
       "2   0-2                                                                 \n",
       "3   0-2                      Violation by M. Plumlee (def goaltending)  \n",
       "4   2-2                                                                 \n",
       "5   2-5          +3  M. Morris makes 3-pt jump shot from 23 ft (ass...  \n",
       "6   2-5                                                                 \n",
       "7   2-5                                                                 \n",
       "8   2-5                                                                 \n",
       "9   2-5                                Defensive rebound by M. Plumlee  "
      ]
     },
     "execution_count": 34,
     "metadata": {},
     "output_type": "execute_result"
    }
   ],
   "source": [
    "sample = pd.read_csv (r\"C:\\Users\\Bryant Xia\\Desktop\\lead_change_analysis\\pbp_games\\g201410290PHO.csv\")\n",
    "sample.head (10)"
   ]
  },
  {
   "cell_type": "markdown",
   "metadata": {},
   "source": [
    "* ignore OTs"
   ]
  },
  {
   "cell_type": "code",
   "execution_count": 59,
   "metadata": {},
   "outputs": [],
   "source": [
    "quarter = [0]*len(sample)\n",
    "quarter [0] = 1\n",
    "qt_count = 1\n",
    "\n",
    "for i in range (1, len(sample)):\n",
    "    secs_prev = int (sample['time'][i-1].split(\":\")[0])*60+float (sample['time'][i-1].split(\":\")[1])\n",
    "    secs_cur = int (sample['time'][i].split(\":\")[0])*60+float (sample['time'][i].split(\":\")[1])\n",
    "    if (secs_cur - secs_prev >= 60): # no way 60s is added back on the clock\n",
    "        print (sample['time'][i-1], sample['time'][i])\n",
    "        qt_count +=1 \n",
    "    quarter [i] = qt_count\n",
    "\n",
    "sample ['quarter'] = quarter"
   ]
  },
  {
   "cell_type": "code",
   "execution_count": 55,
   "metadata": {},
   "outputs": [],
   "source": [
    "sample ['seconds'] = sample.apply (lambda x: x.quarter*12*60 - int(x.time.split(\":\")[0])*60\n",
    "                                             - float(x.time.split(\":\")[1]), axis = 1)"
   ]
  },
  {
   "cell_type": "code",
   "execution_count": 56,
   "metadata": {},
   "outputs": [
    {
     "data": {
      "text/html": [
       "<div>\n",
       "<style scoped>\n",
       "    .dataframe tbody tr th:only-of-type {\n",
       "        vertical-align: middle;\n",
       "    }\n",
       "\n",
       "    .dataframe tbody tr th {\n",
       "        vertical-align: top;\n",
       "    }\n",
       "\n",
       "    .dataframe thead th {\n",
       "        text-align: right;\n",
       "    }\n",
       "</style>\n",
       "<table border=\"1\" class=\"dataframe\">\n",
       "  <thead>\n",
       "    <tr style=\"text-align: right;\">\n",
       "      <th></th>\n",
       "      <th>time</th>\n",
       "      <th>away_description</th>\n",
       "      <th>away_change</th>\n",
       "      <th>score</th>\n",
       "      <th>home_change</th>\n",
       "      <th>home_description</th>\n",
       "      <th>quarter</th>\n",
       "      <th>seconds</th>\n",
       "    </tr>\n",
       "  </thead>\n",
       "  <tbody>\n",
       "    <tr>\n",
       "      <th>419</th>\n",
       "      <td>0:39.0</td>\n",
       "      <td></td>\n",
       "      <td></td>\n",
       "      <td>99-119</td>\n",
       "      <td></td>\n",
       "      <td>Turnover by T. Ennis (lost ball; steal by R. P...</td>\n",
       "      <td>4</td>\n",
       "      <td>2841.0</td>\n",
       "    </tr>\n",
       "    <tr>\n",
       "      <th>420</th>\n",
       "      <td>0:35.0</td>\n",
       "      <td>R. Price misses 2-pt jump shot from 4 ft (bloc...</td>\n",
       "      <td></td>\n",
       "      <td>99-119</td>\n",
       "      <td></td>\n",
       "      <td></td>\n",
       "      <td>4</td>\n",
       "      <td>2845.0</td>\n",
       "    </tr>\n",
       "    <tr>\n",
       "      <th>421</th>\n",
       "      <td>0:35.0</td>\n",
       "      <td>Offensive rebound by Team</td>\n",
       "      <td></td>\n",
       "      <td>99-119</td>\n",
       "      <td></td>\n",
       "      <td></td>\n",
       "      <td>4</td>\n",
       "      <td>2845.0</td>\n",
       "    </tr>\n",
       "    <tr>\n",
       "      <th>422</th>\n",
       "      <td>0:24.0</td>\n",
       "      <td>R. Price misses 2-pt layup from 2 ft</td>\n",
       "      <td></td>\n",
       "      <td>99-119</td>\n",
       "      <td></td>\n",
       "      <td></td>\n",
       "      <td>4</td>\n",
       "      <td>2856.0</td>\n",
       "    </tr>\n",
       "    <tr>\n",
       "      <th>423</th>\n",
       "      <td>0:22.0</td>\n",
       "      <td></td>\n",
       "      <td></td>\n",
       "      <td>99-119</td>\n",
       "      <td></td>\n",
       "      <td>Defensive rebound by A. Tolliver</td>\n",
       "      <td>4</td>\n",
       "      <td>2858.0</td>\n",
       "    </tr>\n",
       "  </tbody>\n",
       "</table>\n",
       "</div>"
      ],
      "text/plain": [
       "       time                                   away_description away_change  \\\n",
       "419  0:39.0                                                                  \n",
       "420  0:35.0  R. Price misses 2-pt jump shot from 4 ft (bloc...               \n",
       "421  0:35.0                          Offensive rebound by Team               \n",
       "422  0:24.0               R. Price misses 2-pt layup from 2 ft               \n",
       "423  0:22.0                                                                  \n",
       "\n",
       "      score home_change                                   home_description  \\\n",
       "419  99-119              Turnover by T. Ennis (lost ball; steal by R. P...   \n",
       "420  99-119                                                                  \n",
       "421  99-119                                                                  \n",
       "422  99-119                                                                  \n",
       "423  99-119                               Defensive rebound by A. Tolliver   \n",
       "\n",
       "     quarter  seconds  \n",
       "419        4   2841.0  \n",
       "420        4   2845.0  \n",
       "421        4   2845.0  \n",
       "422        4   2856.0  \n",
       "423        4   2858.0  "
      ]
     },
     "execution_count": 56,
     "metadata": {},
     "output_type": "execute_result"
    }
   ],
   "source": [
    "sample.tail ()"
   ]
  },
  {
   "cell_type": "code",
   "execution_count": 37,
   "metadata": {},
   "outputs": [],
   "source": [
    "score_dict = {} #key = seconds, value = points scored\n",
    "for i in range (1, 2881):\n",
    "    score_dict [i] = 0"
   ]
  },
  {
   "cell_type": "code",
   "execution_count": 38,
   "metadata": {},
   "outputs": [
    {
     "ename": "NameError",
     "evalue": "name 'sample' is not defined",
     "output_type": "error",
     "traceback": [
      "\u001b[1;31m---------------------------------------------------------------------------\u001b[0m",
      "\u001b[1;31mNameError\u001b[0m                                 Traceback (most recent call last)",
      "\u001b[1;32mc:\\Users\\Bryant Xia\\Desktop\\lead_change_analysis\\pbp_games\\scoring_rate_and_dist.ipynb Cell 10\u001b[0m in \u001b[0;36m<cell line: 1>\u001b[1;34m()\u001b[0m\n\u001b[1;32m----> <a href='vscode-notebook-cell:/c%3A/Users/Bryant%20Xia/Desktop/lead_change_analysis/pbp_games/scoring_rate_and_dist.ipynb#ch0000009?line=0'>1</a>\u001b[0m \u001b[39mfor\u001b[39;00m i \u001b[39min\u001b[39;00m \u001b[39mrange\u001b[39m (\u001b[39mlen\u001b[39m(sample)):\n\u001b[0;32m      <a href='vscode-notebook-cell:/c%3A/Users/Bryant%20Xia/Desktop/lead_change_analysis/pbp_games/scoring_rate_and_dist.ipynb#ch0000009?line=1'>2</a>\u001b[0m     home_score \u001b[39m=\u001b[39m \u001b[39m0\u001b[39m\n\u001b[0;32m      <a href='vscode-notebook-cell:/c%3A/Users/Bryant%20Xia/Desktop/lead_change_analysis/pbp_games/scoring_rate_and_dist.ipynb#ch0000009?line=2'>3</a>\u001b[0m     away_score \u001b[39m=\u001b[39m \u001b[39m0\u001b[39m\n",
      "\u001b[1;31mNameError\u001b[0m: name 'sample' is not defined"
     ]
    }
   ],
   "source": [
    "for i in range (len(sample)):\n",
    "    home_score = 0\n",
    "    away_score = 0\n",
    "    if (sample['home_change'][i][0] == \"+\"):\n",
    "        home_score += int(sample['home_change'][i][1])\n",
    "    if (sample['away_change'][i][0] == \"+\"):\n",
    "        away_score += int(sample['away_change'][i][1])\n",
    "    score_dict [sample['seconds'][i]] += home_score + away_score"
   ]
  },
  {
   "cell_type": "markdown",
   "metadata": {},
   "source": [
    "---"
   ]
  },
  {
   "cell_type": "code",
   "execution_count": 39,
   "metadata": {},
   "outputs": [],
   "source": [
    "def time (sample):\n",
    "\n",
    "    quarter = [0]*len(sample)\n",
    "    quarter [0] = 1\n",
    "    qt_count = 1\n",
    "\n",
    "    for i in range (1, len(sample)):\n",
    "        secs_prev = int (sample['time'][i-1].split(\":\")[0])*60+float (sample['time'][i-1].split(\":\")[1])\n",
    "        secs_cur = int (sample['time'][i].split(\":\")[0])*60+float (sample['time'][i].split(\":\")[1])\n",
    "        if (secs_cur - secs_prev >= 60): # no way 60s is added back on the clock\n",
    "            # print (sample['time'][i-1], sample['time'][i])\n",
    "            qt_count +=1 \n",
    "        quarter [i] = qt_count\n",
    "    sample ['quarter'] = quarter\n",
    "    sample ['seconds'] = sample.apply (lambda x: x.quarter*12*60 - int(x.time.split(\":\")[0])*60\n",
    "                                             - float(x.time.split(\":\")[1]), axis = 1)\n",
    "    sample = sample [sample['quarter']<=4]\n",
    "    return sample"
   ]
  },
  {
   "cell_type": "code",
   "execution_count": 40,
   "metadata": {},
   "outputs": [],
   "source": [
    "score_dict = [0]*2881"
   ]
  },
  {
   "cell_type": "code",
   "execution_count": 41,
   "metadata": {},
   "outputs": [],
   "source": [
    "def add_points (sample):\n",
    "\n",
    "    for i in range (len(sample)):\n",
    "        home_score = 0\n",
    "        away_score = 0\n",
    "\n",
    "        if (sample['home_change'][i][0] == \"+\"):\n",
    "            home_score += int(sample['home_change'][i][1])\n",
    "        if (sample['away_change'][i][0] == \"+\"):\n",
    "            away_score += int(sample['away_change'][i][1])\n",
    "            \n",
    "        score_dict [int(sample['seconds'][i])] += home_score + away_score"
   ]
  },
  {
   "cell_type": "code",
   "execution_count": 42,
   "metadata": {},
   "outputs": [],
   "source": [
    "games = pd.read_csv (r\"C:\\Users\\Bryant Xia\\Desktop\\lead_change_analysis\\game_schedule.csv\")"
   ]
  },
  {
   "cell_type": "code",
   "execution_count": 43,
   "metadata": {},
   "outputs": [
    {
     "name": "stdout",
     "output_type": "stream",
     "text": [
      "0%\n",
      "1%\n",
      "2%\n",
      "3%\n",
      "4%\n",
      "5%\n",
      "6%\n",
      "7%\n",
      "8%\n",
      "9%\n",
      "10%\n",
      "11%\n",
      "12%\n",
      "13%\n",
      "14%\n",
      "15%\n",
      "16%\n",
      "17%\n",
      "18%\n",
      "19%\n",
      "20%\n",
      "21%\n",
      "22%\n",
      "23%\n",
      "24%\n",
      "25%\n",
      "26%\n",
      "27%\n",
      "28%\n",
      "29%\n",
      "30%\n",
      "31%\n",
      "32%\n",
      "33%\n",
      "34%\n",
      "35%\n",
      "36%\n",
      "37%\n",
      "38%\n",
      "39%\n",
      "40%\n",
      "41%\n",
      "42%\n",
      "43%\n",
      "44%\n",
      "45%\n",
      "46%\n",
      "47%\n",
      "48%\n",
      "49%\n",
      "50%\n",
      "51%\n",
      "52%\n",
      "53%\n",
      "54%\n",
      "55%\n",
      "56%\n",
      "57%\n",
      "58%\n",
      "59%\n",
      "60%\n",
      "61%\n",
      "62%\n",
      "63%\n",
      "64%\n",
      "65%\n",
      "66%\n",
      "67%\n",
      "68%\n",
      "69%\n",
      "70%\n",
      "71%\n",
      "72%\n",
      "73%\n",
      "74%\n",
      "75%\n",
      "76%\n",
      "77%\n",
      "78%\n",
      "79%\n",
      "80%\n",
      "81%\n",
      "82%\n",
      "83%\n",
      "84%\n",
      "85%\n",
      "86%\n",
      "87%\n",
      "88%\n",
      "89%\n",
      "90%\n",
      "91%\n",
      "92%\n",
      "93%\n",
      "94%\n",
      "95%\n",
      "96%\n",
      "97%\n",
      "98%\n",
      "99%\n",
      "100%\n",
      "101%\n"
     ]
    }
   ],
   "source": [
    "for i in range (len(games)):\n",
    "    if (i%100 == 0):\n",
    "        print (str(int(i/100))+\"%\")\n",
    "    path = \"g\"+games['id'][i]+\".csv\"\n",
    "    game = pd.read_csv (path)\n",
    "    game = time (game)\n",
    "    add_points (game)"
   ]
  },
  {
   "cell_type": "code",
   "execution_count": 46,
   "metadata": {},
   "outputs": [],
   "source": [
    "sec = []\n",
    "for i in range (0, 2881):\n",
    "    sec.append (i)\n",
    "\n",
    "score = np.array(score_dict)/len(games)"
   ]
  },
  {
   "cell_type": "code",
   "execution_count": 48,
   "metadata": {},
   "outputs": [
    {
     "data": {
      "text/plain": [
       "[<matplotlib.lines.Line2D at 0x1ef96765c60>]"
      ]
     },
     "execution_count": 48,
     "metadata": {},
     "output_type": "execute_result"
    },
    {
     "data": {
      "image/png": "[encoded data removed]",
      "text/plain": [
       "<Figure size 432x288 with 1 Axes>"
      ]
     },
     "metadata": {
      "needs_background": "light"
     },
     "output_type": "display_data"
    }
   ],
   "source": [
    "plt.title (\"Points score per second\")\n",
    "plt.ylabel (\"pts/sec\")\n",
    "plt.xlabel (\"seconds\")\n",
    "plt.plot (sec, score)"
   ]
  },
  {
   "cell_type": "code",
   "execution_count": 49,
   "metadata": {},
   "outputs": [
    {
     "name": "stdout",
     "output_type": "stream",
     "text": [
      "avg:  0.07399778000600934\n"
     ]
    }
   ],
   "source": [
    "print (\"avg: \", np.mean(score))"
   ]
  },
  {
   "cell_type": "code",
   "execution_count": 50,
   "metadata": {},
   "outputs": [
    {
     "data": {
      "text/plain": [
       "213.11360641730693"
      ]
     },
     "execution_count": 50,
     "metadata": {},
     "output_type": "execute_result"
    }
   ],
   "source": [
    "0.07399778000600934*2880"
   ]
  }
 ],
 "metadata": {
  "kernelspec": {
   "display_name": "Python 3.10.1 64-bit",
   "language": "python",
   "name": "python3"
  },
  "language_info": {
   "codemirror_mode": {
    "name": "ipython",
    "version": 3
   },
   "file_extension": ".py",
   "mimetype": "text/x-python",
   "name": "python",
   "nbconvert_exporter": "python",
   "pygments_lexer": "ipython3",
   "version": "3.10.1"
  },
  "orig_nbformat": 4,
  "vscode": {
   "interpreter": {
    "hash": "369f2c481f4da34e4445cda3fffd2e751bd1c4d706f27375911949ba6bb62e1c"
   }
  }
 },
 "nbformat": 4,
 "nbformat_minor": 2
}
