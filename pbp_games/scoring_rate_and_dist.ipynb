{
 "cells": [
  {
   "cell_type": "markdown",
   "metadata": {},
   "source": [
    "### Calculate scoring rate + the probability distribution of time elapsed between scoring events"
   ]
  },
  {
   "cell_type": "markdown",
   "metadata": {},
   "source": [
    "* work with one game first"
   ]
  },
  {
   "cell_type": "code",
   "execution_count": 2,
   "metadata": {},
   "outputs": [],
   "source": [
    "import pandas as pd\n",
    "import numpy as np\n",
    "import matplotlib.pyplot as plt\n",
    "import seaborn as sns"
   ]
  },
  {
   "cell_type": "code",
   "execution_count": 34,
   "metadata": {},
   "outputs": [
    {
     "data": {
      "text/html": [
       "<div>\n",
       "<style scoped>\n",
       "    .dataframe tbody tr th:only-of-type {\n",
       "        vertical-align: middle;\n",
       "    }\n",
       "\n",
       "    .dataframe tbody tr th {\n",
       "        vertical-align: top;\n",
       "    }\n",
       "\n",
       "    .dataframe thead th {\n",
       "        text-align: right;\n",
       "    }\n",
       "</style>\n",
       "<table border=\"1\" class=\"dataframe\">\n",
       "  <thead>\n",
       "    <tr style=\"text-align: right;\">\n",
       "      <th></th>\n",
       "      <th>time</th>\n",
       "      <th>away_description</th>\n",
       "      <th>away_change</th>\n",
       "      <th>score</th>\n",
       "      <th>home_change</th>\n",
       "      <th>home_description</th>\n",
       "    </tr>\n",
       "  </thead>\n",
       "  <tbody>\n",
       "    <tr>\n",
       "      <th>0</th>\n",
       "      <td>11:43.0</td>\n",
       "      <td></td>\n",
       "      <td></td>\n",
       "      <td>0-2</td>\n",
       "      <td>+2</td>\n",
       "      <td>M. Plumlee makes 2-pt dunk at rim (assist by E...</td>\n",
       "    </tr>\n",
       "    <tr>\n",
       "      <th>1</th>\n",
       "      <td>11:28.0</td>\n",
       "      <td>K. Bryant misses 2-pt jump shot from 16 ft</td>\n",
       "      <td></td>\n",
       "      <td>0-2</td>\n",
       "      <td></td>\n",
       "      <td></td>\n",
       "    </tr>\n",
       "    <tr>\n",
       "      <th>2</th>\n",
       "      <td>11:26.0</td>\n",
       "      <td>Offensive rebound by Team</td>\n",
       "      <td></td>\n",
       "      <td>0-2</td>\n",
       "      <td></td>\n",
       "      <td></td>\n",
       "    </tr>\n",
       "    <tr>\n",
       "      <th>3</th>\n",
       "      <td>11:25.0</td>\n",
       "      <td></td>\n",
       "      <td></td>\n",
       "      <td>0-2</td>\n",
       "      <td></td>\n",
       "      <td>Violation by M. Plumlee (def goaltending)</td>\n",
       "    </tr>\n",
       "    <tr>\n",
       "      <th>4</th>\n",
       "      <td>11:25.0</td>\n",
       "      <td>C. Boozer makes 2-pt layup from 2 ft (assist b...</td>\n",
       "      <td>+2</td>\n",
       "      <td>2-2</td>\n",
       "      <td></td>\n",
       "      <td></td>\n",
       "    </tr>\n",
       "    <tr>\n",
       "      <th>5</th>\n",
       "      <td>11:03.0</td>\n",
       "      <td></td>\n",
       "      <td></td>\n",
       "      <td>2-5</td>\n",
       "      <td>+3</td>\n",
       "      <td>M. Morris makes 3-pt jump shot from 23 ft (ass...</td>\n",
       "    </tr>\n",
       "    <tr>\n",
       "      <th>6</th>\n",
       "      <td>10:51.0</td>\n",
       "      <td>J. Lin misses 2-pt jump shot from 19 ft</td>\n",
       "      <td></td>\n",
       "      <td>2-5</td>\n",
       "      <td></td>\n",
       "      <td></td>\n",
       "    </tr>\n",
       "    <tr>\n",
       "      <th>7</th>\n",
       "      <td>10:49.0</td>\n",
       "      <td>Offensive rebound by J. Hill</td>\n",
       "      <td></td>\n",
       "      <td>2-5</td>\n",
       "      <td></td>\n",
       "      <td></td>\n",
       "    </tr>\n",
       "    <tr>\n",
       "      <th>8</th>\n",
       "      <td>10:43.0</td>\n",
       "      <td>C. Boozer misses 2-pt jump shot from 15 ft</td>\n",
       "      <td></td>\n",
       "      <td>2-5</td>\n",
       "      <td></td>\n",
       "      <td></td>\n",
       "    </tr>\n",
       "    <tr>\n",
       "      <th>9</th>\n",
       "      <td>10:41.0</td>\n",
       "      <td></td>\n",
       "      <td></td>\n",
       "      <td>2-5</td>\n",
       "      <td></td>\n",
       "      <td>Defensive rebound by M. Plumlee</td>\n",
       "    </tr>\n",
       "  </tbody>\n",
       "</table>\n",
       "</div>"
      ],
      "text/plain": [
       "      time                                   away_description away_change  \\\n",
       "0  11:43.0                                                                  \n",
       "1  11:28.0         K. Bryant misses 2-pt jump shot from 16 ft               \n",
       "2  11:26.0                          Offensive rebound by Team               \n",
       "3  11:25.0                                                                  \n",
       "4  11:25.0  C. Boozer makes 2-pt layup from 2 ft (assist b...          +2   \n",
       "5  11:03.0                                                                  \n",
       "6  10:51.0            J. Lin misses 2-pt jump shot from 19 ft               \n",
       "7  10:49.0                       Offensive rebound by J. Hill               \n",
       "8  10:43.0         C. Boozer misses 2-pt jump shot from 15 ft               \n",
       "9  10:41.0                                                                  \n",
       "\n",
       "  score home_change                                   home_description  \n",
       "0   0-2          +2  M. Plumlee makes 2-pt dunk at rim (assist by E...  \n",
       "1   0-2                                                                 \n",
       "2   0-2                                                                 \n",
       "3   0-2                      Violation by M. Plumlee (def goaltending)  \n",
       "4   2-2                                                                 \n",
       "5   2-5          +3  M. Morris makes 3-pt jump shot from 23 ft (ass...  \n",
       "6   2-5                                                                 \n",
       "7   2-5                                                                 \n",
       "8   2-5                                                                 \n",
       "9   2-5                                Defensive rebound by M. Plumlee  "
      ]
     },
     "execution_count": 34,
     "metadata": {},
     "output_type": "execute_result"
    }
   ],
   "source": [
    "sample = pd.read_csv (r\"C:\\Users\\Bryant Xia\\Desktop\\lead_change_analysis\\pbp_games\\g201410290PHO.csv\")\n",
    "sample.head (10)"
   ]
  },
  {
   "cell_type": "markdown",
   "metadata": {},
   "source": [
    "* ignore OTs"
   ]
  },
  {
   "cell_type": "code",
   "execution_count": 59,
   "metadata": {},
   "outputs": [],
   "source": [
    "quarter = [0]*len(sample)\n",
    "quarter [0] = 1\n",
    "qt_count = 1\n",
    "\n",
    "for i in range (1, len(sample)):\n",
    "    secs_prev = int (sample['time'][i-1].split(\":\")[0])*60+float (sample['time'][i-1].split(\":\")[1])\n",
    "    secs_cur = int (sample['time'][i].split(\":\")[0])*60+float (sample['time'][i].split(\":\")[1])\n",
    "    if (secs_cur - secs_prev >= 60): # no way 60s is added back on the clock\n",
    "        print (sample['time'][i-1], sample['time'][i])\n",
    "        qt_count +=1 \n",
    "    quarter [i] = qt_count\n",
    "\n",
    "sample ['quarter'] = quarter"
   ]
  },
  {
   "cell_type": "code",
   "execution_count": 55,
   "metadata": {},
   "outputs": [],
   "source": [
    "sample ['seconds'] = sample.apply (lambda x: x.quarter*12*60 - int(x.time.split(\":\")[0])*60\n",
    "                                             - float(x.time.split(\":\")[1]), axis = 1)"
   ]
  },
  {
   "cell_type": "code",
   "execution_count": 56,
   "metadata": {},
   "outputs": [
    {
     "data": {
      "text/html": [
       "<div>\n",
       "<style scoped>\n",
       "    .dataframe tbody tr th:only-of-type {\n",
       "        vertical-align: middle;\n",
       "    }\n",
       "\n",
       "    .dataframe tbody tr th {\n",
       "        vertical-align: top;\n",
       "    }\n",
       "\n",
       "    .dataframe thead th {\n",
       "        text-align: right;\n",
       "    }\n",
       "</style>\n",
       "<table border=\"1\" class=\"dataframe\">\n",
       "  <thead>\n",
       "    <tr style=\"text-align: right;\">\n",
       "      <th></th>\n",
       "      <th>time</th>\n",
       "      <th>away_description</th>\n",
       "      <th>away_change</th>\n",
       "      <th>score</th>\n",
       "      <th>home_change</th>\n",
       "      <th>home_description</th>\n",
       "      <th>quarter</th>\n",
       "      <th>seconds</th>\n",
       "    </tr>\n",
       "  </thead>\n",
       "  <tbody>\n",
       "    <tr>\n",
       "      <th>419</th>\n",
       "      <td>0:39.0</td>\n",
       "      <td></td>\n",
       "      <td></td>\n",
       "      <td>99-119</td>\n",
       "      <td></td>\n",
       "      <td>Turnover by T. Ennis (lost ball; steal by R. P...</td>\n",
       "      <td>4</td>\n",
       "      <td>2841.0</td>\n",
       "    </tr>\n",
       "    <tr>\n",
       "      <th>420</th>\n",
       "      <td>0:35.0</td>\n",
       "      <td>R. Price misses 2-pt jump shot from 4 ft (bloc...</td>\n",
       "      <td></td>\n",
       "      <td>99-119</td>\n",
       "      <td></td>\n",
       "      <td></td>\n",
       "      <td>4</td>\n",
       "      <td>2845.0</td>\n",
       "    </tr>\n",
       "    <tr>\n",
       "      <th>421</th>\n",
       "      <td>0:35.0</td>\n",
       "      <td>Offensive rebound by Team</td>\n",
       "      <td></td>\n",
       "      <td>99-119</td>\n",
       "      <td></td>\n",
       "      <td></td>\n",
       "      <td>4</td>\n",
       "      <td>2845.0</td>\n",
       "    </tr>\n",
       "    <tr>\n",
       "      <th>422</th>\n",
       "      <td>0:24.0</td>\n",
       "      <td>R. Price misses 2-pt layup from 2 ft</td>\n",
       "      <td></td>\n",
       "      <td>99-119</td>\n",
       "      <td></td>\n",
       "      <td></td>\n",
       "      <td>4</td>\n",
       "      <td>2856.0</td>\n",
       "    </tr>\n",
       "    <tr>\n",
       "      <th>423</th>\n",
       "      <td>0:22.0</td>\n",
       "      <td></td>\n",
       "      <td></td>\n",
       "      <td>99-119</td>\n",
       "      <td></td>\n",
       "      <td>Defensive rebound by A. Tolliver</td>\n",
       "      <td>4</td>\n",
       "      <td>2858.0</td>\n",
       "    </tr>\n",
       "  </tbody>\n",
       "</table>\n",
       "</div>"
      ],
      "text/plain": [
       "       time                                   away_description away_change  \\\n",
       "419  0:39.0                                                                  \n",
       "420  0:35.0  R. Price misses 2-pt jump shot from 4 ft (bloc...               \n",
       "421  0:35.0                          Offensive rebound by Team               \n",
       "422  0:24.0               R. Price misses 2-pt layup from 2 ft               \n",
       "423  0:22.0                                                                  \n",
       "\n",
       "      score home_change                                   home_description  \\\n",
       "419  99-119              Turnover by T. Ennis (lost ball; steal by R. P...   \n",
       "420  99-119                                                                  \n",
       "421  99-119                                                                  \n",
       "422  99-119                                                                  \n",
       "423  99-119                               Defensive rebound by A. Tolliver   \n",
       "\n",
       "     quarter  seconds  \n",
       "419        4   2841.0  \n",
       "420        4   2845.0  \n",
       "421        4   2845.0  \n",
       "422        4   2856.0  \n",
       "423        4   2858.0  "
      ]
     },
     "execution_count": 56,
     "metadata": {},
     "output_type": "execute_result"
    }
   ],
   "source": [
    "sample.tail ()"
   ]
  },
  {
   "cell_type": "code",
   "execution_count": 37,
   "metadata": {},
   "outputs": [],
   "source": [
    "score_dict = {} #key = seconds, value = points scored\n",
    "for i in range (1, 2881):\n",
    "    score_dict [i] = 0"
   ]
  },
  {
   "cell_type": "code",
   "execution_count": null,
   "metadata": {},
   "outputs": [],
   "source": [
    "for i in range (len(sample)):\n",
    "    home_score = 0\n",
    "    away_score = 0\n",
    "    if (sample['home_change'][i][0] == \"+\"):\n",
    "        home_score += int(sample['home_change'][i][1])\n",
    "    if (sample['away_change'][i][0] == \"+\"):\n",
    "        away_score += int(sample['away_change'][i][1])\n",
    "    score_dict [sample['seconds'][i]] += home_score + away_score"
   ]
  },
  {
   "cell_type": "markdown",
   "metadata": {},
   "source": [
    "---"
   ]
  },
  {
   "cell_type": "code",
   "execution_count": 223,
   "metadata": {},
   "outputs": [],
   "source": [
    "def time (sample):\n",
    "\n",
    "    quarter = [0]*len(sample)\n",
    "    quarter [0] = 1\n",
    "    qt_count = 1\n",
    "\n",
    "    for i in range (1, len(sample)):\n",
    "        secs_prev = int (sample['time'][i-1].split(\":\")[0])*60+float (sample['time'][i-1].split(\":\")[1])\n",
    "        secs_cur = int (sample['time'][i].split(\":\")[0])*60+float (sample['time'][i].split(\":\")[1])\n",
    "        if (secs_cur - secs_prev >= 60): # no way 60s is added back on the clock\n",
    "            # print (sample['time'][i-1], sample['time'][i])\n",
    "            qt_count +=1 \n",
    "        quarter [i] = qt_count\n",
    "    sample ['quarter'] = quarter\n",
    "    sample ['seconds'] = sample.apply (lambda x: x.quarter*12*60 - int(x.time.split(\":\")[0])*60\n",
    "                                             - float(x.time.split(\":\")[1]), axis = 1)\n",
    "    sample = sample [sample['quarter']<=4]\n",
    "    return sample"
   ]
  },
  {
   "cell_type": "code",
   "execution_count": 224,
   "metadata": {},
   "outputs": [],
   "source": [
    "score_dict_home = [0]*2881\n",
    "time_elapsed_home = [0]*2881\n",
    "scoring_plays_home = [0]*2881\n",
    "scoring_decomp_home = [0]*7\n",
    "\n",
    "score_dict_away = [0]*2881\n",
    "time_elapsed_away = [0]*2881\n",
    "scoring_plays_away = [0]*2881\n",
    "scoring_decomp_away = [0]*7"
   ]
  },
  {
   "cell_type": "code",
   "execution_count": 227,
   "metadata": {},
   "outputs": [],
   "source": [
    "def stats_home (sample):\n",
    "\n",
    "    prev_time = 0\n",
    "    prev_value = 0\n",
    "\n",
    "    #this would ignore the last scoring play; need to add a dummy row for home scoring\n",
    "    sample.loc[len(sample)] = ['', '', '', '', '+10', '', 4, 3000] \n",
    "\n",
    "    for i in range (len(sample)):\n",
    "\n",
    "        if (len(sample['home_change'][i])>0 and sample['home_change'][i][0] == \"+\"):\n",
    "\n",
    "            if (int(sample['seconds'][i]) != 3000):\n",
    "                delta = int(sample['home_change'][i][1])\n",
    "                cur_time = int(sample['seconds'][i])\n",
    "                score_dict_home [cur_time] += delta\n",
    "\n",
    "            if (sample['seconds'][i] == prev_time):\n",
    "                prev_value += delta\n",
    "                \n",
    "            else: #ignore the initial case\n",
    "                if (prev_value>0):\n",
    "                    time_elapsed_home [cur_time-int(prev_time)] += 1\n",
    "                    scoring_decomp_home [prev_value] += 1\n",
    "                    scoring_plays_home [int(prev_time)] += 1\n",
    "                    \n",
    "                prev_time = sample['seconds'][i]\n",
    "                prev_value = delta"
   ]
  },
  {
   "cell_type": "code",
   "execution_count": 228,
   "metadata": {},
   "outputs": [],
   "source": [
    "def stats_away (sample):\n",
    "\n",
    "    prev_time = 0\n",
    "    prev_value = 0\n",
    "\n",
    "    #this would ignore the last scoring play; need to add a dummy row for away scoring\n",
    "    sample.loc[len(sample)] = ['', '', '', '', '+10', '', 4, 3000] \n",
    "\n",
    "    for i in range (len(sample)):\n",
    "\n",
    "        if (len(sample['away_change'][i])>0 and sample['away_change'][i][0] == \"+\"):\n",
    "\n",
    "            if (int(sample['seconds'][i]) != 3000): \n",
    "                delta = int(sample['away_change'][i][1])\n",
    "                cur_time = int(sample['seconds'][i])\n",
    "                score_dict_away [cur_time] += delta\n",
    "\n",
    "            if (sample['seconds'][i] == prev_time):\n",
    "                prev_value += delta\n",
    "                \n",
    "            else: #ignore the initial case\n",
    "                if (prev_value>0):\n",
    "                    time_elapsed_away [cur_time-int(prev_time)] += 1\n",
    "                    scoring_decomp_away [prev_value] += 1\n",
    "                    scoring_plays_away [int(prev_time)] += 1\n",
    "                    \n",
    "                prev_time = sample['seconds'][i]\n",
    "                prev_value = delta"
   ]
  },
  {
   "cell_type": "code",
   "execution_count": 229,
   "metadata": {},
   "outputs": [],
   "source": [
    "games = pd.read_csv (r\"C:\\Users\\Bryant Xia\\Desktop\\lead_change_analysis\\game_schedule.csv\")"
   ]
  },
  {
   "cell_type": "code",
   "execution_count": 230,
   "metadata": {},
   "outputs": [
    {
     "name": "stdout",
     "output_type": "stream",
     "text": [
      "0% 1% 2% 3% 4% 5% 6% 7% 8% 9% 10% 11% 12% 13% 14% 15% 16% 17% 18% 19% 20% 21% 22% 23% 24% 25% 26% 27% 28% 29% 30% 31% 32% 33% 34% 35% 36% 37% 38% 39% 40% 41% 42% 43% 44% 45% 46% 47% 48% 49% 50% 51% 52% 53% 54% 55% 56% 57% 58% 59% 60% 61% 62% 63% 64% 65% 66% 67% 68% 69% 70% 71% 72% 73% 74% 75% 76% 77% 78% 79% 80% 81% 82% 83% 84% 85% 86% 87% 88% 89% 90% 91% 92% 93% 94% 95% 96% 97% 98% 99% 100% 101% "
     ]
    }
   ],
   "source": [
    "for i in range (len(games)):\n",
    "    if (i%100 == 0):\n",
    "        print (str(int(i/100))+\"%\", end=\" \")\n",
    "    path = \"g\"+games['id'][i]+\".csv\"\n",
    "    game = pd.read_csv (path)\n",
    "    game = time (game)\n",
    "    stats_home (game)\n",
    "    game = pd.read_csv (path)\n",
    "    game = time (game)\n",
    "    stats_away (game)"
   ]
  },
  {
   "cell_type": "code",
   "execution_count": 231,
   "metadata": {},
   "outputs": [],
   "source": [
    "sec = []\n",
    "for i in range (0, 2881):\n",
    "    sec.append (i)"
   ]
  },
  {
   "cell_type": "markdown",
   "metadata": {},
   "source": [
    "---\n",
    "### Initial Look"
   ]
  },
  {
   "cell_type": "code",
   "execution_count": 232,
   "metadata": {},
   "outputs": [],
   "source": [
    "scoring_plays_either = np.array(scoring_plays_home) + np.array(scoring_plays_away)\n",
    "time_elapsed_either =  np.array(time_elapsed_home) +  np.array(time_elapsed_away)\n",
    "scoring_decomp_tot =  np.array(scoring_decomp_home) +  np.array(scoring_decomp_away)"
   ]
  },
  {
   "cell_type": "code",
   "execution_count": 233,
   "metadata": {},
   "outputs": [
    {
     "name": "stdout",
     "output_type": "stream",
     "text": [
      "[     0  70473 663854 248741   1928     24      1]\n"
     ]
    }
   ],
   "source": [
    "print (scoring_decomp_tot)"
   ]
  },
  {
   "cell_type": "code",
   "execution_count": 234,
   "metadata": {},
   "outputs": [
    {
     "name": "stderr",
     "output_type": "stream",
     "text": [
      "C:\\Users\\Bryant Xia\\AppData\\Local\\Temp\\ipykernel_17640\\2910900034.py:1: RuntimeWarning: divide by zero encountered in log\n",
      "  scoring_time_prob = np.log (time_elapsed_either / np.sum(time_elapsed_either))\n"
     ]
    }
   ],
   "source": [
    "scoring_time_prob = np.log (time_elapsed_either / np.sum(time_elapsed_either))"
   ]
  },
  {
   "cell_type": "code",
   "execution_count": 254,
   "metadata": {},
   "outputs": [
    {
     "data": {
      "image/png": "[encoded data removed]",
      "text/plain": [
       "<Figure size 432x288 with 1 Axes>"
      ]
     },
     "metadata": {
      "needs_background": "light"
     },
     "output_type": "display_data"
    }
   ],
   "source": [
    "plt.title (\"Scoring rate over time\")\n",
    "plt.ylim ([0, 0.15])\n",
    "plt.xlim([0, 2880])\n",
    "plt.plot (sec[0:721], (scoring_plays_either/len(games))[0:721], label =\"Q1\")\n",
    "plt.plot (sec[721:1441], (scoring_plays_either/len(games))[721:1441], label =\"Q2\")\n",
    "plt.plot (sec[1441:2161], (scoring_plays_either/len(games))[1441:2161], label =\"Q3\")\n",
    "plt.plot (sec[2161:], (scoring_plays_either/len(games))[2161:], label =\"Q4\")\n",
    "plt.legend ()\n",
    "plt.xlabel (\"Time (seconds)\")\n",
    "plt.ylabel (\"scoring plays/sec\")\n",
    "plt.show ()"
   ]
  },
  {
   "cell_type": "code",
   "execution_count": 236,
   "metadata": {},
   "outputs": [
    {
     "data": {
      "image/png": "[encoded data removed]",
      "text/plain": [
       "<Figure size 432x288 with 1 Axes>"
      ]
     },
     "metadata": {
      "needs_background": "light"
     },
     "output_type": "display_data"
    }
   ],
   "source": [
    "from sklearn.linear_model import LinearRegression\n",
    "\n",
    "model = LinearRegression ()\n",
    "X_fit = np.array (sec[31:400:10]).reshape (-1, 1)\n",
    "Y_fit = np.array (scoring_time_prob[31:400:10]).reshape (-1, 1)\n",
    "model.fit (X_fit, Y_fit)\n",
    "y_pred = model.predict (np.array(sec[31:400:10]).reshape (-1, 1))\n",
    "\n",
    "plt.title (\"Probability of time-elapsed between successive scoring events\")\n",
    "plt.xlabel (\"time (seconds)\")\n",
    "plt.ylabel (\"ln(P)\")\n",
    "plt.scatter (sec[1:400:10], scoring_time_prob[1:400:10], marker=\".\", color=\"red\")\n",
    "plt.plot (sec[31:400:10], y_pred)\n",
    "plt.show ()"
   ]
  },
  {
   "cell_type": "markdown",
   "metadata": {},
   "source": [
    "* Linear on log scale -> exponential distribution of waiting time"
   ]
  },
  {
   "cell_type": "code",
   "execution_count": 237,
   "metadata": {},
   "outputs": [
    {
     "name": "stdout",
     "output_type": "stream",
     "text": [
      "1 pts:  7.154466757561514%\n",
      "2 pts:  67.39490833190358%\n",
      "3 pts:  25.25235502593346%\n",
      "4 pts:  0.19573186764546135%\n",
      "5 pts:  0.002436496277744332%\n",
      "6 pts:  0.00010152067823934719%\n"
     ]
    }
   ],
   "source": [
    "scoring_decomp_pct = scoring_decomp_tot / np.sum (scoring_decomp_tot)\n",
    "for i in range (1, len(scoring_decomp_pct)):\n",
    "    print (i, \"pts: \", str(scoring_decomp_pct [i]*100)+\"%\")"
   ]
  },
  {
   "cell_type": "code",
   "execution_count": 238,
   "metadata": {},
   "outputs": [
    {
     "name": "stdout",
     "output_type": "stream",
     "text": [
      "scoring_rate:  0.03352971113288964\n"
     ]
    }
   ],
   "source": [
    "print (\"scoring_rate: \",  np.mean(scoring_plays_either)/len(games))"
   ]
  },
  {
   "cell_type": "code",
   "execution_count": 239,
   "metadata": {},
   "outputs": [
    {
     "name": "stdout",
     "output_type": "stream",
     "text": [
      "avg. points per scoring play:  2.1849706757520906\n"
     ]
    }
   ],
   "source": [
    "avg_pts = 0 \n",
    "\n",
    "for i in range (1, len(scoring_decomp_pct)):\n",
    "    avg_pts += i*scoring_decomp_pct [i]\n",
    "\n",
    "print (\"avg. points per scoring play: \",  avg_pts)"
   ]
  }
 ],
 "metadata": {
  "kernelspec": {
   "display_name": "Python 3.10.1 64-bit",
   "language": "python",
   "name": "python3"
  },
  "language_info": {
   "codemirror_mode": {
    "name": "ipython",
    "version": 3
   },
   "file_extension": ".py",
   "mimetype": "text/x-python",
   "name": "python",
   "nbconvert_exporter": "python",
   "pygments_lexer": "ipython3",
   "version": "3.10.1"
  },
  "orig_nbformat": 4,
  "vscode": {
   "interpreter": {
    "hash": "369f2c481f4da34e4445cda3fffd2e751bd1c4d706f27375911949ba6bb62e1c"
   }
  }
 },
 "nbformat": 4,
 "nbformat_minor": 2
}
