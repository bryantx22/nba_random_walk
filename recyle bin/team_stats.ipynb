{
 "cells": [
  {
   "cell_type": "markdown",
   "metadata": {},
   "source": [
    "Compiling team shooting stats"
   ]
  },
  {
   "cell_type": "code",
   "execution_count": 2,
   "metadata": {},
   "outputs": [
    {
     "data": {
      "text/html": [
       "<div>\n",
       "<style scoped>\n",
       "    .dataframe tbody tr th:only-of-type {\n",
       "        vertical-align: middle;\n",
       "    }\n",
       "\n",
       "    .dataframe tbody tr th {\n",
       "        vertical-align: top;\n",
       "    }\n",
       "\n",
       "    .dataframe thead th {\n",
       "        text-align: right;\n",
       "    }\n",
       "</style>\n",
       "<table border=\"1\" class=\"dataframe\">\n",
       "  <thead>\n",
       "    <tr style=\"text-align: right;\">\n",
       "      <th></th>\n",
       "      <th>game_id</th>\n",
       "      <th>team</th>\n",
       "      <th>2pt_makes</th>\n",
       "      <th>2pt_attempts</th>\n",
       "      <th>3pt_makes</th>\n",
       "      <th>3pt_attempts</th>\n",
       "    </tr>\n",
       "  </thead>\n",
       "  <tbody>\n",
       "    <tr>\n",
       "      <th>0</th>\n",
       "      <td>20220416_UTA_DAL</td>\n",
       "      <td>UTA</td>\n",
       "      <td>29</td>\n",
       "      <td>61</td>\n",
       "      <td>7</td>\n",
       "      <td>22</td>\n",
       "    </tr>\n",
       "    <tr>\n",
       "      <th>1</th>\n",
       "      <td>20220416_UTA_DAL</td>\n",
       "      <td>DAL</td>\n",
       "      <td>20</td>\n",
       "      <td>44</td>\n",
       "      <td>9</td>\n",
       "      <td>32</td>\n",
       "    </tr>\n",
       "    <tr>\n",
       "      <th>2</th>\n",
       "      <td>20220416_MIN_MEM</td>\n",
       "      <td>MIN</td>\n",
       "      <td>29</td>\n",
       "      <td>49</td>\n",
       "      <td>16</td>\n",
       "      <td>41</td>\n",
       "    </tr>\n",
       "    <tr>\n",
       "      <th>3</th>\n",
       "      <td>20220416_MIN_MEM</td>\n",
       "      <td>MEM</td>\n",
       "      <td>32</td>\n",
       "      <td>59</td>\n",
       "      <td>7</td>\n",
       "      <td>27</td>\n",
       "    </tr>\n",
       "    <tr>\n",
       "      <th>4</th>\n",
       "      <td>20220416_TOR_PHI</td>\n",
       "      <td>TOR</td>\n",
       "      <td>28</td>\n",
       "      <td>52</td>\n",
       "      <td>12</td>\n",
       "      <td>30</td>\n",
       "    </tr>\n",
       "  </tbody>\n",
       "</table>\n",
       "</div>"
      ],
      "text/plain": [
       "            game_id team  2pt_makes  2pt_attempts  3pt_makes  3pt_attempts\n",
       "0  20220416_UTA_DAL  UTA         29            61          7            22\n",
       "1  20220416_UTA_DAL  DAL         20            44          9            32\n",
       "2  20220416_MIN_MEM  MIN         29            49         16            41\n",
       "3  20220416_MIN_MEM  MEM         32            59          7            27\n",
       "4  20220416_TOR_PHI  TOR         28            52         12            30"
      ]
     },
     "execution_count": 2,
     "metadata": {},
     "output_type": "execute_result"
    }
   ],
   "source": [
    "import pandas as pd\n",
    "import numpy as np\n",
    "import matplotlib.pyplot as plt\n",
    "\n",
    "april=pd.read_csv(r\"C:\\Users\\Bryant Xia\\Desktop\\lead_change_analysis\\april_shooting_stats.csv\")\n",
    "may=pd.read_csv(r\"C:\\Users\\Bryant Xia\\Desktop\\lead_change_analysis\\may_shooting_stats.csv\")\n",
    "\n",
    "april.head()"
   ]
  },
  {
   "cell_type": "code",
   "execution_count": 7,
   "metadata": {},
   "outputs": [
    {
     "data": {
      "text/html": [
       "<div>\n",
       "<style scoped>\n",
       "    .dataframe tbody tr th:only-of-type {\n",
       "        vertical-align: middle;\n",
       "    }\n",
       "\n",
       "    .dataframe tbody tr th {\n",
       "        vertical-align: top;\n",
       "    }\n",
       "\n",
       "    .dataframe thead th {\n",
       "        text-align: right;\n",
       "    }\n",
       "</style>\n",
       "<table border=\"1\" class=\"dataframe\">\n",
       "  <thead>\n",
       "    <tr style=\"text-align: right;\">\n",
       "      <th></th>\n",
       "      <th>game_id</th>\n",
       "      <th>team</th>\n",
       "      <th>2pt_makes</th>\n",
       "      <th>2pt_attempts</th>\n",
       "      <th>3pt_makes</th>\n",
       "      <th>3pt_attempts</th>\n",
       "    </tr>\n",
       "  </thead>\n",
       "  <tbody>\n",
       "    <tr>\n",
       "      <th>0</th>\n",
       "      <td>20220416_UTA_DAL</td>\n",
       "      <td>UTA</td>\n",
       "      <td>29</td>\n",
       "      <td>61</td>\n",
       "      <td>7</td>\n",
       "      <td>22</td>\n",
       "    </tr>\n",
       "    <tr>\n",
       "      <th>1</th>\n",
       "      <td>20220416_UTA_DAL</td>\n",
       "      <td>DAL</td>\n",
       "      <td>20</td>\n",
       "      <td>44</td>\n",
       "      <td>9</td>\n",
       "      <td>32</td>\n",
       "    </tr>\n",
       "    <tr>\n",
       "      <th>2</th>\n",
       "      <td>20220416_MIN_MEM</td>\n",
       "      <td>MIN</td>\n",
       "      <td>29</td>\n",
       "      <td>49</td>\n",
       "      <td>16</td>\n",
       "      <td>41</td>\n",
       "    </tr>\n",
       "    <tr>\n",
       "      <th>3</th>\n",
       "      <td>20220416_MIN_MEM</td>\n",
       "      <td>MEM</td>\n",
       "      <td>32</td>\n",
       "      <td>59</td>\n",
       "      <td>7</td>\n",
       "      <td>27</td>\n",
       "    </tr>\n",
       "    <tr>\n",
       "      <th>4</th>\n",
       "      <td>20220416_TOR_PHI</td>\n",
       "      <td>TOR</td>\n",
       "      <td>28</td>\n",
       "      <td>52</td>\n",
       "      <td>12</td>\n",
       "      <td>30</td>\n",
       "    </tr>\n",
       "  </tbody>\n",
       "</table>\n",
       "</div>"
      ],
      "text/plain": [
       "            game_id team  2pt_makes  2pt_attempts  3pt_makes  3pt_attempts\n",
       "0  20220416_UTA_DAL  UTA         29            61          7            22\n",
       "1  20220416_UTA_DAL  DAL         20            44          9            32\n",
       "2  20220416_MIN_MEM  MIN         29            49         16            41\n",
       "3  20220416_MIN_MEM  MEM         32            59          7            27\n",
       "4  20220416_TOR_PHI  TOR         28            52         12            30"
      ]
     },
     "execution_count": 7,
     "metadata": {},
     "output_type": "execute_result"
    }
   ],
   "source": [
    "merged=pd.concat([april, may], axis=0)\n",
    "\n",
    "merged.head()"
   ]
  },
  {
   "cell_type": "code",
   "execution_count": 19,
   "metadata": {},
   "outputs": [
    {
     "data": {
      "text/html": [
       "<div>\n",
       "<style scoped>\n",
       "    .dataframe tbody tr th:only-of-type {\n",
       "        vertical-align: middle;\n",
       "    }\n",
       "\n",
       "    .dataframe tbody tr th {\n",
       "        vertical-align: top;\n",
       "    }\n",
       "\n",
       "    .dataframe thead th {\n",
       "        text-align: right;\n",
       "    }\n",
       "</style>\n",
       "<table border=\"1\" class=\"dataframe\">\n",
       "  <thead>\n",
       "    <tr style=\"text-align: right;\">\n",
       "      <th></th>\n",
       "      <th>2pt_makes</th>\n",
       "      <th>2pt_attempts</th>\n",
       "      <th>3pt_makes</th>\n",
       "      <th>3pt_attempts</th>\n",
       "      <th>game_count</th>\n",
       "    </tr>\n",
       "    <tr>\n",
       "      <th>team</th>\n",
       "      <th></th>\n",
       "      <th></th>\n",
       "      <th></th>\n",
       "      <th></th>\n",
       "      <th></th>\n",
       "    </tr>\n",
       "  </thead>\n",
       "  <tbody>\n",
       "    <tr>\n",
       "      <th>ATL</th>\n",
       "      <td>230</td>\n",
       "      <td>432</td>\n",
       "      <td>114</td>\n",
       "      <td>350</td>\n",
       "      <td>10</td>\n",
       "    </tr>\n",
       "    <tr>\n",
       "      <th>BOS</th>\n",
       "      <td>540</td>\n",
       "      <td>999</td>\n",
       "      <td>291</td>\n",
       "      <td>806</td>\n",
       "      <td>22</td>\n",
       "    </tr>\n",
       "    <tr>\n",
       "      <th>BRK</th>\n",
       "      <td>222</td>\n",
       "      <td>406</td>\n",
       "      <td>92</td>\n",
       "      <td>218</td>\n",
       "      <td>8</td>\n",
       "    </tr>\n",
       "    <tr>\n",
       "      <th>CHI</th>\n",
       "      <td>260</td>\n",
       "      <td>534</td>\n",
       "      <td>104</td>\n",
       "      <td>368</td>\n",
       "      <td>10</td>\n",
       "    </tr>\n",
       "    <tr>\n",
       "      <th>DAL</th>\n",
       "      <td>491</td>\n",
       "      <td>941</td>\n",
       "      <td>377</td>\n",
       "      <td>998</td>\n",
       "      <td>24</td>\n",
       "    </tr>\n",
       "  </tbody>\n",
       "</table>\n",
       "</div>"
      ],
      "text/plain": [
       "      2pt_makes  2pt_attempts  3pt_makes  3pt_attempts  game_count\n",
       "team                                                              \n",
       "ATL         230           432        114           350          10\n",
       "BOS         540           999        291           806          22\n",
       "BRK         222           406         92           218           8\n",
       "CHI         260           534        104           368          10\n",
       "DAL         491           941        377           998          24"
      ]
     },
     "execution_count": 19,
     "metadata": {},
     "output_type": "execute_result"
    }
   ],
   "source": [
    "merged['game_count']=1\n",
    "tm=merged.groupby(['team']).sum()\n",
    "tm.head(5)"
   ]
  },
  {
   "cell_type": "code",
   "execution_count": 20,
   "metadata": {},
   "outputs": [
    {
     "data": {
      "text/html": [
       "<div>\n",
       "<style scoped>\n",
       "    .dataframe tbody tr th:only-of-type {\n",
       "        vertical-align: middle;\n",
       "    }\n",
       "\n",
       "    .dataframe tbody tr th {\n",
       "        vertical-align: top;\n",
       "    }\n",
       "\n",
       "    .dataframe thead th {\n",
       "        text-align: right;\n",
       "    }\n",
       "</style>\n",
       "<table border=\"1\" class=\"dataframe\">\n",
       "  <thead>\n",
       "    <tr style=\"text-align: right;\">\n",
       "      <th></th>\n",
       "      <th>2pt_makes</th>\n",
       "      <th>2pt_attempts</th>\n",
       "      <th>3pt_makes</th>\n",
       "      <th>3pt_attempts</th>\n",
       "      <th>game_count</th>\n",
       "      <th>2pt_pct</th>\n",
       "      <th>3pt_pct</th>\n",
       "      <th>shots_per_game</th>\n",
       "    </tr>\n",
       "    <tr>\n",
       "      <th>team</th>\n",
       "      <th></th>\n",
       "      <th></th>\n",
       "      <th></th>\n",
       "      <th></th>\n",
       "      <th></th>\n",
       "      <th></th>\n",
       "      <th></th>\n",
       "      <th></th>\n",
       "    </tr>\n",
       "  </thead>\n",
       "  <tbody>\n",
       "    <tr>\n",
       "      <th>ATL</th>\n",
       "      <td>230</td>\n",
       "      <td>432</td>\n",
       "      <td>114</td>\n",
       "      <td>350</td>\n",
       "      <td>10</td>\n",
       "      <td>0.532407</td>\n",
       "      <td>0.325714</td>\n",
       "      <td>78.200000</td>\n",
       "    </tr>\n",
       "    <tr>\n",
       "      <th>BOS</th>\n",
       "      <td>540</td>\n",
       "      <td>999</td>\n",
       "      <td>291</td>\n",
       "      <td>806</td>\n",
       "      <td>22</td>\n",
       "      <td>0.540541</td>\n",
       "      <td>0.361042</td>\n",
       "      <td>82.045455</td>\n",
       "    </tr>\n",
       "    <tr>\n",
       "      <th>BRK</th>\n",
       "      <td>222</td>\n",
       "      <td>406</td>\n",
       "      <td>92</td>\n",
       "      <td>218</td>\n",
       "      <td>8</td>\n",
       "      <td>0.546798</td>\n",
       "      <td>0.422018</td>\n",
       "      <td>78.000000</td>\n",
       "    </tr>\n",
       "    <tr>\n",
       "      <th>CHI</th>\n",
       "      <td>260</td>\n",
       "      <td>534</td>\n",
       "      <td>104</td>\n",
       "      <td>368</td>\n",
       "      <td>10</td>\n",
       "      <td>0.486891</td>\n",
       "      <td>0.282609</td>\n",
       "      <td>90.200000</td>\n",
       "    </tr>\n",
       "    <tr>\n",
       "      <th>DAL</th>\n",
       "      <td>491</td>\n",
       "      <td>941</td>\n",
       "      <td>377</td>\n",
       "      <td>998</td>\n",
       "      <td>24</td>\n",
       "      <td>0.521785</td>\n",
       "      <td>0.377756</td>\n",
       "      <td>80.791667</td>\n",
       "    </tr>\n",
       "  </tbody>\n",
       "</table>\n",
       "</div>"
      ],
      "text/plain": [
       "      2pt_makes  2pt_attempts  3pt_makes  3pt_attempts  game_count   2pt_pct  \\\n",
       "team                                                                           \n",
       "ATL         230           432        114           350          10  0.532407   \n",
       "BOS         540           999        291           806          22  0.540541   \n",
       "BRK         222           406         92           218           8  0.546798   \n",
       "CHI         260           534        104           368          10  0.486891   \n",
       "DAL         491           941        377           998          24  0.521785   \n",
       "\n",
       "       3pt_pct  shots_per_game  \n",
       "team                            \n",
       "ATL   0.325714       78.200000  \n",
       "BOS   0.361042       82.045455  \n",
       "BRK   0.422018       78.000000  \n",
       "CHI   0.282609       90.200000  \n",
       "DAL   0.377756       80.791667  "
      ]
     },
     "execution_count": 20,
     "metadata": {},
     "output_type": "execute_result"
    }
   ],
   "source": [
    "tm['2pt_pct']=tm['2pt_makes']/tm['2pt_attempts']\n",
    "tm['3pt_pct']=tm['3pt_makes']/tm['3pt_attempts']\n",
    "tm['shots_per_game']=(tm['2pt_attempts']+tm['3pt_attempts'])/tm['game_count']\n",
    "\n",
    "tm.head()"
   ]
  },
  {
   "cell_type": "code",
   "execution_count": 23,
   "metadata": {},
   "outputs": [
    {
     "data": {
      "text/plain": [
       "Index(['ATL', 'BOS', 'BRK', 'CHI', 'DAL', 'DEN', 'GSW', 'MEM', 'MIA', 'MIL',\n",
       "       'MIN', 'NOP', 'PHI', 'PHO', 'TOR', 'UTA'],\n",
       "      dtype='object', name='team')"
      ]
     },
     "execution_count": 23,
     "metadata": {},
     "output_type": "execute_result"
    }
   ],
   "source": [
    "tm.index"
   ]
  },
  {
   "cell_type": "code",
   "execution_count": 35,
   "metadata": {},
   "outputs": [
    {
     "data": {
      "image/png": "[encoded data removed]",
      "text/plain": [
       "<Figure size 576x432 with 1 Axes>"
      ]
     },
     "metadata": {
      "needs_background": "light"
     },
     "output_type": "display_data"
    }
   ],
   "source": [
    "annotations=tm.index\n",
    "X=tm['2pt_pct']\n",
    "Y=tm['3pt_pct']\n",
    "plt.figure(figsize=(8,6))\n",
    "plt.scatter(X,Y,s=100,color=\"grey\", alpha=0.75)\n",
    "plt.xlabel(\"2p_pct\")\n",
    "plt.ylabel(\"3pt_pct\")\n",
    "plt.title(\"shooting stats scatter (21-22 playoffs excluding finals)\",fontsize=15)\n",
    "for i, label in enumerate(annotations):\n",
    "    plt.annotate(label, (X[i], Y[i]))\n",
    "\n",
    "plt.show()"
   ]
  },
  {
   "cell_type": "code",
   "execution_count": 37,
   "metadata": {},
   "outputs": [
    {
     "data": {
      "image/png": "[encoded data removed]",
      "text/plain": [
       "<Figure size 432x288 with 1 Axes>"
      ]
     },
     "metadata": {
      "needs_background": "light"
     },
     "output_type": "display_data"
    }
   ],
   "source": [
    "plt.bar(tm.index, tm['shots_per_game'], color=\"grey\")\n",
    "plt.xticks(rotation = 315)\n",
    "plt.show()"
   ]
  },
  {
   "cell_type": "code",
   "execution_count": 134,
   "metadata": {},
   "outputs": [],
   "source": [
    "import random \n",
    "\n",
    "def simulation (team1, team2):\n",
    "    possessions=tm['shots_per_game'][team1]+tm['shots_per_game'][team2]\n",
    "    p=tm['shots_per_game'][team1]/possessions\n",
    "    team1_tally=[]\n",
    "    team1_tally.append (0)\n",
    "    team2_tally=[]\n",
    "    team2_tally.append (0)\n",
    "    poss_dummy=[]\n",
    "    poss_dummy.append (0)\n",
    "    for i in range (0, int(possessions)+1):\n",
    "        poss_dummy.append(i+1)\n",
    "        if (random.random()<=p): # team1's ball\n",
    "            two_chance=tm['2pt_attempts'][team1]/(tm['2pt_attempts'][team1]+tm['3pt_attempts'][team1])\n",
    "            if (random.random()<two_chance):\n",
    "                if (random.random()<=tm['2pt_pct'][team1]):\n",
    "                    team1_tally.append (team1_tally[-1]+2)\n",
    "                    team2_tally.append (team2_tally[-1])\n",
    "                else:\n",
    "                    team1_tally.append (team1_tally[-1])\n",
    "                    team2_tally.append (team2_tally[-1])\n",
    "            else:\n",
    "                if (random.random()<=tm['3pt_pct'][team1]):\n",
    "                    team1_tally.append (team1_tally[-1]+3)\n",
    "                    team2_tally.append (team2_tally[-1])\n",
    "                else:\n",
    "                    team1_tally.append (team1_tally[-1])\n",
    "                    team2_tally.append (team2_tally[-1])\n",
    "        else:\n",
    "            two_chance=tm['2pt_attempts'][team2]/(tm['2pt_attempts'][team2]+tm['3pt_attempts'][team2])\n",
    "            if (random.random()<two_chance):\n",
    "                if (random.random()<tm['2pt_pct'][team2]):\n",
    "                    team2_tally.append (team2_tally[-1]+2)\n",
    "                    team1_tally.append (team1_tally[-1])\n",
    "                else:\n",
    "                    team1_tally.append (team1_tally[-1])\n",
    "                    team2_tally.append (team2_tally[-1])\n",
    "            else:\n",
    "                if (random.random()<tm['3pt_pct'][team2]):\n",
    "                    team2_tally.append (team2_tally[-1]+3)\n",
    "                    team1_tally.append (team1_tally[-1])\n",
    "                else:\n",
    "                    team1_tally.append (team1_tally[-1])\n",
    "                    team2_tally.append (team2_tally[-1])\n",
    "\n",
    "    plt.title (team1+\" vs. \"+team2+\" simulation\")\n",
    "    plt.xlabel(\"Possessions\")\n",
    "    plt.ylabel(\"Cumulative Points\")\n",
    "    plt.plot (poss_dummy, np.array(team1_tally), label=team1, color=\"green\")\n",
    "    plt.plot (poss_dummy, np.array(team2_tally), label=team2, color=\"blue\")\n",
    "    plt.legend()\n",
    "    plt.grid(visible=True, color=\"grey\")\n",
    "    plt.show()\n"
   ]
  },
  {
   "cell_type": "code",
   "execution_count": 138,
   "metadata": {},
   "outputs": [
    {
     "data": {
      "image/png": "[encoded data removed]",
      "text/plain": [
       "<Figure size 432x288 with 1 Axes>"
      ]
     },
     "metadata": {
      "needs_background": "light"
     },
     "output_type": "display_data"
    }
   ],
   "source": [
    "simulation (\"BOS\", \"GSW\")"
   ]
  }
 ],
 "metadata": {
  "kernelspec": {
   "display_name": "Python 3.10.1 64-bit",
   "language": "python",
   "name": "python3"
  },
  "language_info": {
   "codemirror_mode": {
    "name": "ipython",
    "version": 3
   },
   "file_extension": ".py",
   "mimetype": "text/x-python",
   "name": "python",
   "nbconvert_exporter": "python",
   "pygments_lexer": "ipython3",
   "version": "3.10.1"
  },
  "orig_nbformat": 4,
  "vscode": {
   "interpreter": {
    "hash": "369f2c481f4da34e4445cda3fffd2e751bd1c4d706f27375911949ba6bb62e1c"
   }
  }
 },
 "nbformat": 4,
 "nbformat_minor": 2
}
